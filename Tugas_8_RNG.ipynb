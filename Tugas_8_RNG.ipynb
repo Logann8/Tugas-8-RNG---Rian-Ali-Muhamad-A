{
  "nbformat": 4,
  "nbformat_minor": 0,
  "metadata": {
    "colab": {
      "provenance": [],
      "authorship_tag": "ABX9TyPZ+977RJW55bmTQWJ7rCDZ",
      "include_colab_link": true
    },
    "kernelspec": {
      "name": "python3",
      "display_name": "Python 3"
    },
    "language_info": {
      "name": "python"
    }
  },
  "cells": [
    {
      "cell_type": "markdown",
      "metadata": {
        "id": "view-in-github",
        "colab_type": "text"
      },
      "source": [
        "<a href=\"https://colab.research.google.com/github/Logann8/Tugas-8-RNG---Rian-Ali-Muhamad-A/blob/main/Tugas_8_RNG.ipynb\" target=\"_parent\"><img src=\"https://colab.research.google.com/assets/colab-badge.svg\" alt=\"Open In Colab\"/></a>"
      ]
    },
    {
      "cell_type": "code",
      "execution_count": null,
      "metadata": {
        "colab": {
          "base_uri": "https://localhost:8080/"
        },
        "id": "oqz1lExeGE7G",
        "outputId": "11c83743-f8b9-4af3-eac1-14f3c8a229b9"
      },
      "outputs": [
        {
          "output_type": "stream",
          "name": "stdout",
          "text": [
            "i   | Zi-1                         |  Zi = (5.Zi-1) mod 68                                                  | Zi (bilangan acak)   | Ui = Zi/68                    \n",
            "--------------------------------------------------------------------------------------------------------------------------------------------\n",
            "1   | 20                           | (5 * 20) mod 68                                                        | 32                   | 0.4706                        \n",
            "2   | 32                           | (5 * 32) mod 68                                                        | 24                   | 0.3529                        \n",
            "3   | 24                           | (5 * 24) mod 68                                                        | 52                   | 0.7647                        \n",
            "4   | 52                           | (5 * 52) mod 68                                                        | 56                   | 0.8235                        \n",
            "5   | 56                           | (5 * 56) mod 68                                                        | 8                    | 0.1176                        \n",
            "6   | 8                            | (5 * 8) mod 68                                                         | 40                   | 0.5882                        \n",
            "7   | 40                           | (5 * 40) mod 68                                                        | 64                   | 0.9412                        \n",
            "8   | 64                           | (5 * 64) mod 68                                                        | 48                   | 0.7059                        \n",
            "9   | 48                           | (5 * 48) mod 68                                                        | 36                   | 0.5294                        \n",
            "10  | 36                           | (5 * 36) mod 68                                                        | 44                   | 0.6471                        \n",
            "11  | 44                           | (5 * 44) mod 68                                                        | 16                   | 0.2353                        \n",
            "12  | 16                           | (5 * 16) mod 68                                                        | 12                   | 0.1765                        \n",
            "13  | 12                           | (5 * 12) mod 68                                                        | 60                   | 0.8824                        \n",
            "14  | 60                           | (5 * 60) mod 68                                                        | 28                   | 0.4118                        \n",
            "15  | 28                           | (5 * 28) mod 68                                                        | 4                    | 0.0588                        \n"
          ]
        }
      ],
      "source": [
        "a = 5\n",
        "m = 68\n",
        "Z0 = 20\n",
        "n = 15\n",
        "\n",
        "\n",
        "print(f\"{'i':<3} | {'Zi-1':<28} | {' Zi = (5.Zi-1) mod 68':<70} | {'Zi (bilangan acak)':<20} | {'Ui = Zi/68':<30}\")\n",
        "print(\"-\" * 140)\n",
        "\n",
        "\n",
        "results = []\n",
        "Zi = Z0\n",
        "\n",
        "for i in range(1, n + 1):\n",
        "    Zi_next = (a * Zi) % m\n",
        "    Ui = Zi_next / m\n",
        "    rumus = f\"({a} * {Zi}) mod {m}\"\n",
        "    results.append((i, Zi, rumus, Zi_next, Ui))\n",
        "    Zi = Zi_next\n",
        "\n",
        "for row in results:\n",
        "    print(f\"{row[0]:<3} | {row[1]:<28} | {row[2]:<70} | {row[3]:<20} | {row[4]:<30.4f}\")"
      ]
    }
  ]
}